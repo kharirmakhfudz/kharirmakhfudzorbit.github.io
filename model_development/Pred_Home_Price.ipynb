{
 "cells": [
  {
   "cell_type": "markdown",
   "metadata": {
    "id": "69mRslwIxNwC"
   },
   "source": [
    "# Import Library"
   ]
  },
  {
   "cell_type": "code",
   "execution_count": 1,
   "metadata": {
    "execution": {
     "iopub.execute_input": "2021-06-03T20:05:24.538201Z",
     "iopub.status.busy": "2021-06-03T20:05:24.537773Z",
     "iopub.status.idle": "2021-06-03T20:05:24.542814Z",
     "shell.execute_reply": "2021-06-03T20:05:24.541993Z",
     "shell.execute_reply.started": "2021-06-03T20:05:24.538163Z"
    },
    "executionInfo": {
     "elapsed": 4208,
     "status": "ok",
     "timestamp": 1654821074192,
     "user": {
      "displayName": "Ade Irvan",
      "userId": "15757670850542183529"
     },
     "user_tz": -420
    },
    "id": "D_J8l58cPMRq"
   },
   "outputs": [],
   "source": [
    "import pandas as pd\n",
    "import numpy as np\n",
    "import matplotlib.pyplot as plt\n",
    "import seaborn as sns\n",
    "import tensorflow as tf\n",
    "import warnings\n",
    "warnings.filterwarnings(\"ignore\")\n",
    "%matplotlib inline"
   ]
  },
  {
   "cell_type": "markdown",
   "metadata": {
    "id": "R5So80MDxVYJ"
   },
   "source": [
    "# Import Dataset"
   ]
  },
  {
   "cell_type": "code",
   "execution_count": 3,
   "metadata": {
    "colab": {
     "base_uri": "https://localhost:8080/",
     "height": 444
    },
    "execution": {
     "iopub.execute_input": "2021-06-03T20:05:24.553866Z",
     "iopub.status.busy": "2021-06-03T20:05:24.552982Z",
     "iopub.status.idle": "2021-06-03T20:05:24.634729Z",
     "shell.execute_reply": "2021-06-03T20:05:24.633578Z",
     "shell.execute_reply.started": "2021-06-03T20:05:24.553801Z"
    },
    "executionInfo": {
     "elapsed": 483,
     "status": "ok",
     "timestamp": 1654821122031,
     "user": {
      "displayName": "Ade Irvan",
      "userId": "15757670850542183529"
     },
     "user_tz": -420
    },
    "id": "7mHdp-WUPMRs",
    "outputId": "295d4023-06e8-4f87-82de-7729b962019d"
   },
   "outputs": [
    {
     "data": {
      "text/html": [
       "<div>\n",
       "<style scoped>\n",
       "    .dataframe tbody tr th:only-of-type {\n",
       "        vertical-align: middle;\n",
       "    }\n",
       "\n",
       "    .dataframe tbody tr th {\n",
       "        vertical-align: top;\n",
       "    }\n",
       "\n",
       "    .dataframe thead th {\n",
       "        text-align: right;\n",
       "    }\n",
       "</style>\n",
       "<table border=\"1\" class=\"dataframe\">\n",
       "  <thead>\n",
       "    <tr style=\"text-align: right;\">\n",
       "      <th></th>\n",
       "      <th>Area Income</th>\n",
       "      <th>House Age</th>\n",
       "      <th>Number of Rooms</th>\n",
       "      <th>Number of Bedrooms</th>\n",
       "      <th>Area Population</th>\n",
       "      <th>Price</th>\n",
       "      <th>Address</th>\n",
       "      <th>longitude</th>\n",
       "      <th>latitude</th>\n",
       "    </tr>\n",
       "  </thead>\n",
       "  <tbody>\n",
       "    <tr>\n",
       "      <th>0</th>\n",
       "      <td>79545.458574</td>\n",
       "      <td>5.682861</td>\n",
       "      <td>7.009188</td>\n",
       "      <td>4.09</td>\n",
       "      <td>23086.800503</td>\n",
       "      <td>1.059034e+06</td>\n",
       "      <td>208 Michael Ferry Apt. 674\\nLaurabury, NE 3701...</td>\n",
       "      <td>-114.31</td>\n",
       "      <td>34.19</td>\n",
       "    </tr>\n",
       "    <tr>\n",
       "      <th>1</th>\n",
       "      <td>79248.642455</td>\n",
       "      <td>6.002900</td>\n",
       "      <td>6.730821</td>\n",
       "      <td>3.09</td>\n",
       "      <td>40173.072174</td>\n",
       "      <td>1.505891e+06</td>\n",
       "      <td>188 Johnson Views Suite 079\\nLake Kathleen, CA...</td>\n",
       "      <td>-114.47</td>\n",
       "      <td>34.40</td>\n",
       "    </tr>\n",
       "    <tr>\n",
       "      <th>2</th>\n",
       "      <td>61287.067179</td>\n",
       "      <td>5.865890</td>\n",
       "      <td>8.512727</td>\n",
       "      <td>5.13</td>\n",
       "      <td>36882.159400</td>\n",
       "      <td>1.058988e+06</td>\n",
       "      <td>9127 Elizabeth Stravenue\\nDanieltown, WI 06482...</td>\n",
       "      <td>-114.56</td>\n",
       "      <td>33.69</td>\n",
       "    </tr>\n",
       "    <tr>\n",
       "      <th>3</th>\n",
       "      <td>63345.240046</td>\n",
       "      <td>7.188236</td>\n",
       "      <td>5.586729</td>\n",
       "      <td>3.26</td>\n",
       "      <td>34310.242831</td>\n",
       "      <td>1.260617e+06</td>\n",
       "      <td>USS Barnett\\nFPO AP 44820</td>\n",
       "      <td>-114.57</td>\n",
       "      <td>33.64</td>\n",
       "    </tr>\n",
       "    <tr>\n",
       "      <th>4</th>\n",
       "      <td>59982.197226</td>\n",
       "      <td>5.040555</td>\n",
       "      <td>7.839388</td>\n",
       "      <td>4.23</td>\n",
       "      <td>26354.109472</td>\n",
       "      <td>6.309435e+05</td>\n",
       "      <td>USNS Raymond\\nFPO AE 09386</td>\n",
       "      <td>-114.57</td>\n",
       "      <td>33.57</td>\n",
       "    </tr>\n",
       "    <tr>\n",
       "      <th>...</th>\n",
       "      <td>...</td>\n",
       "      <td>...</td>\n",
       "      <td>...</td>\n",
       "      <td>...</td>\n",
       "      <td>...</td>\n",
       "      <td>...</td>\n",
       "      <td>...</td>\n",
       "      <td>...</td>\n",
       "      <td>...</td>\n",
       "    </tr>\n",
       "    <tr>\n",
       "      <th>4995</th>\n",
       "      <td>60567.944140</td>\n",
       "      <td>7.830362</td>\n",
       "      <td>6.137356</td>\n",
       "      <td>3.46</td>\n",
       "      <td>22837.361035</td>\n",
       "      <td>1.060194e+06</td>\n",
       "      <td>USNS Williams\\nFPO AP 30153-7653</td>\n",
       "      <td>-118.11</td>\n",
       "      <td>33.88</td>\n",
       "    </tr>\n",
       "    <tr>\n",
       "      <th>4996</th>\n",
       "      <td>78491.275435</td>\n",
       "      <td>6.999135</td>\n",
       "      <td>6.576763</td>\n",
       "      <td>4.02</td>\n",
       "      <td>25616.115489</td>\n",
       "      <td>1.482618e+06</td>\n",
       "      <td>PSC 9258, Box 8489\\nAPO AA 42991-3352</td>\n",
       "      <td>-118.11</td>\n",
       "      <td>33.88</td>\n",
       "    </tr>\n",
       "    <tr>\n",
       "      <th>4997</th>\n",
       "      <td>63390.686886</td>\n",
       "      <td>7.250591</td>\n",
       "      <td>4.805081</td>\n",
       "      <td>2.13</td>\n",
       "      <td>33266.145490</td>\n",
       "      <td>1.030730e+06</td>\n",
       "      <td>4215 Tracy Garden Suite 076\\nJoshualand, VA 01...</td>\n",
       "      <td>-118.11</td>\n",
       "      <td>33.87</td>\n",
       "    </tr>\n",
       "    <tr>\n",
       "      <th>4998</th>\n",
       "      <td>68001.331235</td>\n",
       "      <td>5.534388</td>\n",
       "      <td>7.130144</td>\n",
       "      <td>5.44</td>\n",
       "      <td>42625.620156</td>\n",
       "      <td>1.198657e+06</td>\n",
       "      <td>USS Wallace\\nFPO AE 73316</td>\n",
       "      <td>-118.11</td>\n",
       "      <td>33.86</td>\n",
       "    </tr>\n",
       "    <tr>\n",
       "      <th>4999</th>\n",
       "      <td>65510.581804</td>\n",
       "      <td>5.992305</td>\n",
       "      <td>6.792336</td>\n",
       "      <td>4.07</td>\n",
       "      <td>46501.283803</td>\n",
       "      <td>1.298950e+06</td>\n",
       "      <td>37778 George Ridges Apt. 509\\nEast Holly, NV 2...</td>\n",
       "      <td>-118.11</td>\n",
       "      <td>33.85</td>\n",
       "    </tr>\n",
       "  </tbody>\n",
       "</table>\n",
       "<p>5000 rows × 9 columns</p>\n",
       "</div>"
      ],
      "text/plain": [
       "       Area Income  House Age  Number of Rooms  Number of Bedrooms  \\\n",
       "0     79545.458574   5.682861         7.009188                4.09   \n",
       "1     79248.642455   6.002900         6.730821                3.09   \n",
       "2     61287.067179   5.865890         8.512727                5.13   \n",
       "3     63345.240046   7.188236         5.586729                3.26   \n",
       "4     59982.197226   5.040555         7.839388                4.23   \n",
       "...            ...        ...              ...                 ...   \n",
       "4995  60567.944140   7.830362         6.137356                3.46   \n",
       "4996  78491.275435   6.999135         6.576763                4.02   \n",
       "4997  63390.686886   7.250591         4.805081                2.13   \n",
       "4998  68001.331235   5.534388         7.130144                5.44   \n",
       "4999  65510.581804   5.992305         6.792336                4.07   \n",
       "\n",
       "      Area Population         Price  \\\n",
       "0        23086.800503  1.059034e+06   \n",
       "1        40173.072174  1.505891e+06   \n",
       "2        36882.159400  1.058988e+06   \n",
       "3        34310.242831  1.260617e+06   \n",
       "4        26354.109472  6.309435e+05   \n",
       "...               ...           ...   \n",
       "4995     22837.361035  1.060194e+06   \n",
       "4996     25616.115489  1.482618e+06   \n",
       "4997     33266.145490  1.030730e+06   \n",
       "4998     42625.620156  1.198657e+06   \n",
       "4999     46501.283803  1.298950e+06   \n",
       "\n",
       "                                                Address  longitude  latitude  \n",
       "0     208 Michael Ferry Apt. 674\\nLaurabury, NE 3701...    -114.31     34.19  \n",
       "1     188 Johnson Views Suite 079\\nLake Kathleen, CA...    -114.47     34.40  \n",
       "2     9127 Elizabeth Stravenue\\nDanieltown, WI 06482...    -114.56     33.69  \n",
       "3                             USS Barnett\\nFPO AP 44820    -114.57     33.64  \n",
       "4                            USNS Raymond\\nFPO AE 09386    -114.57     33.57  \n",
       "...                                                 ...        ...       ...  \n",
       "4995                   USNS Williams\\nFPO AP 30153-7653    -118.11     33.88  \n",
       "4996              PSC 9258, Box 8489\\nAPO AA 42991-3352    -118.11     33.88  \n",
       "4997  4215 Tracy Garden Suite 076\\nJoshualand, VA 01...    -118.11     33.87  \n",
       "4998                          USS Wallace\\nFPO AE 73316    -118.11     33.86  \n",
       "4999  37778 George Ridges Apt. 509\\nEast Holly, NV 2...    -118.11     33.85  \n",
       "\n",
       "[5000 rows x 9 columns]"
      ]
     },
     "execution_count": 3,
     "metadata": {},
     "output_type": "execute_result"
    }
   ],
   "source": [
    "df = pd.read_csv('USA_HOUSING.csv')\n",
    "df.head(5000)"
   ]
  },
  {
   "cell_type": "code",
   "execution_count": 4,
   "metadata": {
    "colab": {
     "base_uri": "https://localhost:8080/",
     "height": 499
    },
    "executionInfo": {
     "elapsed": 957,
     "status": "ok",
     "timestamp": 1654821125353,
     "user": {
      "displayName": "Ade Irvan",
      "userId": "15757670850542183529"
     },
     "user_tz": -420
    },
    "id": "xpsWmdACksfD",
    "outputId": "1b458e9a-b069-42d6-f5f6-63d069bc5fb8"
   },
   "outputs": [
    {
     "data": {
      "image/png": "[encoded data removed]",
      "text/plain": [
       "<Figure size 720x576 with 1 Axes>"
      ]
     },
     "metadata": {},
     "output_type": "display_data"
    },
    {
     "data": {
      "text/plain": [
       "<Figure size 432x288 with 0 Axes>"
      ]
     },
     "metadata": {},
     "output_type": "display_data"
    }
   ],
   "source": [
    "# mylabels = [\"a\"]\n",
    "# plt.pie(a, labels = mylabels)\n",
    "# plt.show() \n",
    "a = df['Price'].loc[lambda x : x < 997577].count() # dibawah 25%\n",
    "b = df.query(\"Price >= 997577 & Price <= 1232670\")['House Age'].count() # diantara 25% - 50%\n",
    "c = df.query(\"Price > 1232670 & Price <= 1471210\")['House Age'].count() # diantara 50% - 75%\n",
    "d = df['Price'].loc[lambda x : x > 1471210].count() # diatas 75%\n",
    "\n",
    "y = np.array([a, b, c, d])\n",
    "plt.figure(figsize=(10,8))\n",
    "mylabels = [\"Price < 25%\", \"25% - 50%\", \"50% - 75%\", \"Price > 75%\"]\n",
    "plt.title(\"PieChart Price\")\n",
    "\n",
    "plt.pie(y, labels = mylabels, autopct='%.0f%%')\n",
    "plt.show()\n",
    "plt.savefig('price_piechart.jpg', dpi=75)"
   ]
  },
  {
   "cell_type": "code",
   "execution_count": 5,
   "metadata": {
    "colab": {
     "base_uri": "https://localhost:8080/",
     "height": 420
    },
    "executionInfo": {
     "elapsed": 1165,
     "status": "ok",
     "timestamp": 1654821128308,
     "user": {
      "displayName": "Ade Irvan",
      "userId": "15757670850542183529"
     },
     "user_tz": -420
    },
    "id": "rygOcFxBAaal",
    "outputId": "73280936-6fbd-43df-a247-d6083cd12974"
   },
   "outputs": [
    {
     "data": {
      "image/png": "[encoded data removed]",
      "text/plain": [
       "<Figure size 720x432 with 1 Axes>"
      ]
     },
     "metadata": {
      "needs_background": "light"
     },
     "output_type": "display_data"
    },
    {
     "data": {
      "text/plain": [
       "<Figure size 432x288 with 0 Axes>"
      ]
     },
     "metadata": {},
     "output_type": "display_data"
    }
   ],
   "source": [
    "fig = plt.figure()\n",
    "fig.set_figheight(6)\n",
    "fig.set_figwidth(10)\n",
    "ax = fig.add_subplot(111)\n",
    "plt.title('Perbandingan Harga Rumah')\n",
    "\n",
    "counts = [15938.65,1232670,2469065.59]\n",
    "\n",
    "y_ax = (\"Harga Terendah\",\"Harga Menengah\",\"Harga Tertinggi\")\n",
    "y_tick = np.arange(len(y_ax))\n",
    "\n",
    "ax.barh(range(len(counts)), counts, align = \"center\", color = \"#4CAF50\",edgecolor='black')\n",
    "ax.set_yticks(y_tick)\n",
    "ax.set_yticklabels(y_ax, size = 10)\n",
    "\n",
    "#annotate bar plot with values\n",
    "for i in ax.patches:\n",
    "    ax.text(i.get_width()+.09, i.get_y()+.3, str(round((i.get_width()), 1)), fontsize=10)\n",
    "\n",
    "sns.despine()\n",
    "plt.show();\n",
    "\n",
    "plt.savefig('price_rentang.jpg', dpi=75)"
   ]
  },
  {
   "cell_type": "code",
   "execution_count": 6,
   "metadata": {
    "colab": {
     "base_uri": "https://localhost:8080/"
    },
    "executionInfo": {
     "elapsed": 9,
     "status": "ok",
     "timestamp": 1654821129081,
     "user": {
      "displayName": "Ade Irvan",
      "userId": "15757670850542183529"
     },
     "user_tz": -420
    },
    "id": "QgBWqc3mCaPS",
    "outputId": "98a3f5ba-2b79-456f-c319-af352ae8b6b1"
   },
   "outputs": [
    {
     "data": {
      "text/plain": [
       "Index(['Area Income', 'House Age', 'Number of Rooms', 'Number of Bedrooms',\n",
       "       'Area Population', 'Price', 'Address', 'longitude', 'latitude'],\n",
       "      dtype='object')"
      ]
     },
     "execution_count": 6,
     "metadata": {},
     "output_type": "execute_result"
    }
   ],
   "source": [
    "df.columns"
   ]
  },
  {
   "cell_type": "markdown",
   "metadata": {
    "id": "ZRMaKc8GrVka"
   },
   "source": [
    "*   Penjelasan Setiap Kolom\n",
    " \n",
    " 1. Area Income = Rata - rata pendapatan penduduk dikota yang sama dengan rumah tersebut\n",
    " 2. House Age = Usia rumah tersebut\n",
    " 3. Number of Rooms = Jumlah Kamar dikota yang sama\n",
    " 4. Number of Bedrooms = Jumlah Kamar tidur dikota yang sama\n",
    " 5. Area Population\t = Populasi kota tempat rumah tersebut\n",
    " 6. price = Harga dari rumah (US$)\n",
    " 7. Address = Alamat rumah (longitude dan latitude)\n"
   ]
  },
  {
   "cell_type": "markdown",
   "metadata": {
    "id": "nHePXQrAxa3z"
   },
   "source": [
    "# Handling Missing Value"
   ]
  },
  {
   "cell_type": "code",
   "execution_count": 7,
   "metadata": {
    "colab": {
     "base_uri": "https://localhost:8080/"
    },
    "execution": {
     "iopub.execute_input": "2021-06-03T20:05:24.636281Z",
     "iopub.status.busy": "2021-06-03T20:05:24.635986Z",
     "iopub.status.idle": "2021-06-03T20:05:24.641524Z",
     "shell.execute_reply": "2021-06-03T20:05:24.640547Z",
     "shell.execute_reply.started": "2021-06-03T20:05:24.636252Z"
    },
    "executionInfo": {
     "elapsed": 6,
     "status": "ok",
     "timestamp": 1654821131263,
     "user": {
      "displayName": "Ade Irvan",
      "userId": "15757670850542183529"
     },
     "user_tz": -420
    },
    "id": "crVie4rqPMRt",
    "outputId": "bc1a519b-59f6-4009-9437-01e9f79abc76"
   },
   "outputs": [
    {
     "data": {
      "text/plain": [
       "(5000, 9)"
      ]
     },
     "execution_count": 7,
     "metadata": {},
     "output_type": "execute_result"
    }
   ],
   "source": [
    "# Melihat jumlah baris pada dataset\n",
    "\n",
    "df.shape"
   ]
  },
  {
   "cell_type": "code",
   "execution_count": 8,
   "metadata": {
    "colab": {
     "base_uri": "https://localhost:8080/"
    },
    "execution": {
     "iopub.execute_input": "2021-06-03T20:05:24.672124Z",
     "iopub.status.busy": "2021-06-03T20:05:24.671716Z",
     "iopub.status.idle": "2021-06-03T20:05:24.692815Z",
     "shell.execute_reply": "2021-06-03T20:05:24.691512Z",
     "shell.execute_reply.started": "2021-06-03T20:05:24.672084Z"
    },
    "executionInfo": {
     "elapsed": 8,
     "status": "ok",
     "timestamp": 1654821132023,
     "user": {
      "displayName": "Ade Irvan",
      "userId": "15757670850542183529"
     },
     "user_tz": -420
    },
    "id": "wVT_oK8uPMRu",
    "outputId": "83875fde-6794-41c6-d15f-c389a1b7f7f9"
   },
   "outputs": [
    {
     "data": {
      "text/plain": [
       "Area Income           0\n",
       "House Age             0\n",
       "Number of Rooms       0\n",
       "Number of Bedrooms    0\n",
       "Area Population       0\n",
       "Price                 0\n",
       "Address               0\n",
       "longitude             0\n",
       "latitude              0\n",
       "dtype: int64"
      ]
     },
     "execution_count": 8,
     "metadata": {},
     "output_type": "execute_result"
    }
   ],
   "source": [
    "# Melihat nilai kosong pada dataset\n",
    "\n",
    "df.isnull().sum()"
   ]
  },
  {
   "cell_type": "code",
   "execution_count": 9,
   "metadata": {
    "colab": {
     "base_uri": "https://localhost:8080/"
    },
    "execution": {
     "iopub.execute_input": "2021-06-03T20:05:24.694854Z",
     "iopub.status.busy": "2021-06-03T20:05:24.694318Z",
     "iopub.status.idle": "2021-06-03T20:05:24.713813Z",
     "shell.execute_reply": "2021-06-03T20:05:24.712527Z",
     "shell.execute_reply.started": "2021-06-03T20:05:24.694818Z"
    },
    "executionInfo": {
     "elapsed": 9,
     "status": "ok",
     "timestamp": 1654821135130,
     "user": {
      "displayName": "Ade Irvan",
      "userId": "15757670850542183529"
     },
     "user_tz": -420
    },
    "id": "zDAhe_qePMRw",
    "outputId": "6186363d-a40f-4c18-d5d4-7eedc2ea630c"
   },
   "outputs": [
    {
     "name": "stdout",
     "output_type": "stream",
     "text": [
      "<class 'pandas.core.frame.DataFrame'>\n",
      "RangeIndex: 5000 entries, 0 to 4999\n",
      "Data columns (total 9 columns):\n",
      " #   Column              Non-Null Count  Dtype  \n",
      "---  ------              --------------  -----  \n",
      " 0   Area Income         5000 non-null   float64\n",
      " 1   House Age           5000 non-null   float64\n",
      " 2   Number of Rooms     5000 non-null   float64\n",
      " 3   Number of Bedrooms  5000 non-null   float64\n",
      " 4   Area Population     5000 non-null   float64\n",
      " 5   Price               5000 non-null   float64\n",
      " 6   Address             5000 non-null   object \n",
      " 7   longitude           5000 non-null   float64\n",
      " 8   latitude            5000 non-null   float64\n",
      "dtypes: float64(8), object(1)\n",
      "memory usage: 351.7+ KB\n"
     ]
    }
   ],
   "source": [
    "df.info()"
   ]
  },
  {
   "cell_type": "markdown",
   "metadata": {
    "id": "TxW8hcoiPMRv"
   },
   "source": [
    "**Dataset tidak memiliki nilai kosong**\n",
    "\n"
   ]
  },
  {
   "cell_type": "markdown",
   "metadata": {
    "id": "4lHwN2Hzxhk2"
   },
   "source": [
    "# Statistik Data"
   ]
  },
  {
   "cell_type": "code",
   "execution_count": 10,
   "metadata": {
    "colab": {
     "base_uri": "https://localhost:8080/",
     "height": 362
    },
    "executionInfo": {
     "elapsed": 633,
     "status": "ok",
     "timestamp": 1654821138183,
     "user": {
      "displayName": "Ade Irvan",
      "userId": "15757670850542183529"
     },
     "user_tz": -420
    },
    "id": "XyioU8LQiV32",
    "outputId": "69a5d3c8-924f-4ccc-87d1-5d8bf97a2828"
   },
   "outputs": [
    {
     "data": {
      "text/html": [
       "<div>\n",
       "<style scoped>\n",
       "    .dataframe tbody tr th:only-of-type {\n",
       "        vertical-align: middle;\n",
       "    }\n",
       "\n",
       "    .dataframe tbody tr th {\n",
       "        vertical-align: top;\n",
       "    }\n",
       "\n",
       "    .dataframe thead th {\n",
       "        text-align: right;\n",
       "    }\n",
       "</style>\n",
       "<table border=\"1\" class=\"dataframe\">\n",
       "  <thead>\n",
       "    <tr style=\"text-align: right;\">\n",
       "      <th></th>\n",
       "      <th>Area Income</th>\n",
       "      <th>House Age</th>\n",
       "      <th>Number of Rooms</th>\n",
       "      <th>Number of Bedrooms</th>\n",
       "      <th>Area Population</th>\n",
       "      <th>Price</th>\n",
       "      <th>longitude</th>\n",
       "      <th>latitude</th>\n",
       "    </tr>\n",
       "  </thead>\n",
       "  <tbody>\n",
       "    <tr>\n",
       "      <th>count</th>\n",
       "      <td>5000.000000</td>\n",
       "      <td>5000.000000</td>\n",
       "      <td>5000.000000</td>\n",
       "      <td>5000.000000</td>\n",
       "      <td>5000.000000</td>\n",
       "      <td>5.000000e+03</td>\n",
       "      <td>5000.000000</td>\n",
       "      <td>5000.000000</td>\n",
       "    </tr>\n",
       "    <tr>\n",
       "      <th>mean</th>\n",
       "      <td>68583.108984</td>\n",
       "      <td>5.977222</td>\n",
       "      <td>6.987792</td>\n",
       "      <td>3.981330</td>\n",
       "      <td>36163.516039</td>\n",
       "      <td>1.232073e+06</td>\n",
       "      <td>-117.482700</td>\n",
       "      <td>33.631748</td>\n",
       "    </tr>\n",
       "    <tr>\n",
       "      <th>std</th>\n",
       "      <td>10657.991214</td>\n",
       "      <td>0.991456</td>\n",
       "      <td>1.005833</td>\n",
       "      <td>1.234137</td>\n",
       "      <td>9925.650114</td>\n",
       "      <td>3.531176e+05</td>\n",
       "      <td>0.552238</td>\n",
       "      <td>0.555978</td>\n",
       "    </tr>\n",
       "    <tr>\n",
       "      <th>min</th>\n",
       "      <td>17796.631190</td>\n",
       "      <td>2.644304</td>\n",
       "      <td>3.236194</td>\n",
       "      <td>2.000000</td>\n",
       "      <td>172.610686</td>\n",
       "      <td>1.593866e+04</td>\n",
       "      <td>-118.110000</td>\n",
       "      <td>32.540000</td>\n",
       "    </tr>\n",
       "    <tr>\n",
       "      <th>25%</th>\n",
       "      <td>61480.562388</td>\n",
       "      <td>5.322283</td>\n",
       "      <td>6.299250</td>\n",
       "      <td>3.140000</td>\n",
       "      <td>29403.928702</td>\n",
       "      <td>9.975771e+05</td>\n",
       "      <td>-117.930000</td>\n",
       "      <td>33.150000</td>\n",
       "    </tr>\n",
       "    <tr>\n",
       "      <th>50%</th>\n",
       "      <td>68804.286404</td>\n",
       "      <td>5.970429</td>\n",
       "      <td>7.002902</td>\n",
       "      <td>4.050000</td>\n",
       "      <td>36199.406689</td>\n",
       "      <td>1.232669e+06</td>\n",
       "      <td>-117.625000</td>\n",
       "      <td>33.790000</td>\n",
       "    </tr>\n",
       "    <tr>\n",
       "      <th>75%</th>\n",
       "      <td>75783.338666</td>\n",
       "      <td>6.650808</td>\n",
       "      <td>7.665871</td>\n",
       "      <td>4.490000</td>\n",
       "      <td>42861.290769</td>\n",
       "      <td>1.471210e+06</td>\n",
       "      <td>-117.140000</td>\n",
       "      <td>34.040000</td>\n",
       "    </tr>\n",
       "    <tr>\n",
       "      <th>max</th>\n",
       "      <td>107701.748378</td>\n",
       "      <td>9.519088</td>\n",
       "      <td>10.759588</td>\n",
       "      <td>6.500000</td>\n",
       "      <td>69621.713378</td>\n",
       "      <td>2.469066e+06</td>\n",
       "      <td>-114.310000</td>\n",
       "      <td>36.640000</td>\n",
       "    </tr>\n",
       "  </tbody>\n",
       "</table>\n",
       "</div>"
      ],
      "text/plain": [
       "         Area Income    House Age  Number of Rooms  Number of Bedrooms  \\\n",
       "count    5000.000000  5000.000000      5000.000000         5000.000000   \n",
       "mean    68583.108984     5.977222         6.987792            3.981330   \n",
       "std     10657.991214     0.991456         1.005833            1.234137   \n",
       "min     17796.631190     2.644304         3.236194            2.000000   \n",
       "25%     61480.562388     5.322283         6.299250            3.140000   \n",
       "50%     68804.286404     5.970429         7.002902            4.050000   \n",
       "75%     75783.338666     6.650808         7.665871            4.490000   \n",
       "max    107701.748378     9.519088        10.759588            6.500000   \n",
       "\n",
       "       Area Population         Price    longitude     latitude  \n",
       "count      5000.000000  5.000000e+03  5000.000000  5000.000000  \n",
       "mean      36163.516039  1.232073e+06  -117.482700    33.631748  \n",
       "std        9925.650114  3.531176e+05     0.552238     0.555978  \n",
       "min         172.610686  1.593866e+04  -118.110000    32.540000  \n",
       "25%       29403.928702  9.975771e+05  -117.930000    33.150000  \n",
       "50%       36199.406689  1.232669e+06  -117.625000    33.790000  \n",
       "75%       42861.290769  1.471210e+06  -117.140000    34.040000  \n",
       "max       69621.713378  2.469066e+06  -114.310000    36.640000  "
      ]
     },
     "execution_count": 10,
     "metadata": {},
     "output_type": "execute_result"
    }
   ],
   "source": [
    "# melihat statistik data\n",
    "\n",
    "df.describe()"
   ]
  },
  {
   "cell_type": "code",
   "execution_count": 11,
   "metadata": {
    "executionInfo": {
     "elapsed": 6,
     "status": "ok",
     "timestamp": 1654821140700,
     "user": {
      "displayName": "Ade Irvan",
      "userId": "15757670850542183529"
     },
     "user_tz": -420
    },
    "id": "ykoVYOmcuqcN"
   },
   "outputs": [],
   "source": [
    "# Merubah tipe data kolom Rooms, Bedrooms, population dari float menjadi int\n",
    "\n",
    "df[\"Number of Rooms\"] = df[\"Number of Rooms\"].astype(\"int\") \n",
    "df[\"Number of Bedrooms\"] = df[\"Number of Bedrooms\"].astype(\"int\") \n",
    "df[\"Area Population\"] = df[\"Area Population\"].astype(\"int\") \n"
   ]
  },
  {
   "cell_type": "code",
   "execution_count": 12,
   "metadata": {
    "colab": {
     "base_uri": "https://localhost:8080/",
     "height": 362
    },
    "executionInfo": {
     "elapsed": 7,
     "status": "ok",
     "timestamp": 1654821142850,
     "user": {
      "displayName": "Ade Irvan",
      "userId": "15757670850542183529"
     },
     "user_tz": -420
    },
    "id": "hwvu2Ml4wWE0",
    "outputId": "fc5e2831-b633-4a9e-9d91-5e072a714950"
   },
   "outputs": [
    {
     "data": {
      "text/html": [
       "<div>\n",
       "<style scoped>\n",
       "    .dataframe tbody tr th:only-of-type {\n",
       "        vertical-align: middle;\n",
       "    }\n",
       "\n",
       "    .dataframe tbody tr th {\n",
       "        vertical-align: top;\n",
       "    }\n",
       "\n",
       "    .dataframe thead th {\n",
       "        text-align: right;\n",
       "    }\n",
       "</style>\n",
       "<table border=\"1\" class=\"dataframe\">\n",
       "  <thead>\n",
       "    <tr style=\"text-align: right;\">\n",
       "      <th></th>\n",
       "      <th>Area Income</th>\n",
       "      <th>House Age</th>\n",
       "      <th>Number of Rooms</th>\n",
       "      <th>Number of Bedrooms</th>\n",
       "      <th>Area Population</th>\n",
       "      <th>Price</th>\n",
       "      <th>longitude</th>\n",
       "      <th>latitude</th>\n",
       "    </tr>\n",
       "  </thead>\n",
       "  <tbody>\n",
       "    <tr>\n",
       "      <th>count</th>\n",
       "      <td>5000.000000</td>\n",
       "      <td>5000.000000</td>\n",
       "      <td>5000.000000</td>\n",
       "      <td>5000.000000</td>\n",
       "      <td>5000.00000</td>\n",
       "      <td>5.000000e+03</td>\n",
       "      <td>5000.000000</td>\n",
       "      <td>5000.000000</td>\n",
       "    </tr>\n",
       "    <tr>\n",
       "      <th>mean</th>\n",
       "      <td>68583.108984</td>\n",
       "      <td>5.977222</td>\n",
       "      <td>6.492200</td>\n",
       "      <td>3.732400</td>\n",
       "      <td>36163.01500</td>\n",
       "      <td>1.232073e+06</td>\n",
       "      <td>-117.482700</td>\n",
       "      <td>33.631748</td>\n",
       "    </tr>\n",
       "    <tr>\n",
       "      <th>std</th>\n",
       "      <td>10657.991214</td>\n",
       "      <td>0.991456</td>\n",
       "      <td>1.048503</td>\n",
       "      <td>1.225843</td>\n",
       "      <td>9925.64664</td>\n",
       "      <td>3.531176e+05</td>\n",
       "      <td>0.552238</td>\n",
       "      <td>0.555978</td>\n",
       "    </tr>\n",
       "    <tr>\n",
       "      <th>min</th>\n",
       "      <td>17796.631190</td>\n",
       "      <td>2.644304</td>\n",
       "      <td>3.000000</td>\n",
       "      <td>2.000000</td>\n",
       "      <td>172.00000</td>\n",
       "      <td>1.593866e+04</td>\n",
       "      <td>-118.110000</td>\n",
       "      <td>32.540000</td>\n",
       "    </tr>\n",
       "    <tr>\n",
       "      <th>25%</th>\n",
       "      <td>61480.562388</td>\n",
       "      <td>5.322283</td>\n",
       "      <td>6.000000</td>\n",
       "      <td>3.000000</td>\n",
       "      <td>29403.75000</td>\n",
       "      <td>9.975771e+05</td>\n",
       "      <td>-117.930000</td>\n",
       "      <td>33.150000</td>\n",
       "    </tr>\n",
       "    <tr>\n",
       "      <th>50%</th>\n",
       "      <td>68804.286404</td>\n",
       "      <td>5.970429</td>\n",
       "      <td>7.000000</td>\n",
       "      <td>4.000000</td>\n",
       "      <td>36199.00000</td>\n",
       "      <td>1.232669e+06</td>\n",
       "      <td>-117.625000</td>\n",
       "      <td>33.790000</td>\n",
       "    </tr>\n",
       "    <tr>\n",
       "      <th>75%</th>\n",
       "      <td>75783.338666</td>\n",
       "      <td>6.650808</td>\n",
       "      <td>7.000000</td>\n",
       "      <td>4.000000</td>\n",
       "      <td>42861.00000</td>\n",
       "      <td>1.471210e+06</td>\n",
       "      <td>-117.140000</td>\n",
       "      <td>34.040000</td>\n",
       "    </tr>\n",
       "    <tr>\n",
       "      <th>max</th>\n",
       "      <td>107701.748378</td>\n",
       "      <td>9.519088</td>\n",
       "      <td>10.000000</td>\n",
       "      <td>6.000000</td>\n",
       "      <td>69621.00000</td>\n",
       "      <td>2.469066e+06</td>\n",
       "      <td>-114.310000</td>\n",
       "      <td>36.640000</td>\n",
       "    </tr>\n",
       "  </tbody>\n",
       "</table>\n",
       "</div>"
      ],
      "text/plain": [
       "         Area Income    House Age  Number of Rooms  Number of Bedrooms  \\\n",
       "count    5000.000000  5000.000000      5000.000000         5000.000000   \n",
       "mean    68583.108984     5.977222         6.492200            3.732400   \n",
       "std     10657.991214     0.991456         1.048503            1.225843   \n",
       "min     17796.631190     2.644304         3.000000            2.000000   \n",
       "25%     61480.562388     5.322283         6.000000            3.000000   \n",
       "50%     68804.286404     5.970429         7.000000            4.000000   \n",
       "75%     75783.338666     6.650808         7.000000            4.000000   \n",
       "max    107701.748378     9.519088        10.000000            6.000000   \n",
       "\n",
       "       Area Population         Price    longitude     latitude  \n",
       "count       5000.00000  5.000000e+03  5000.000000  5000.000000  \n",
       "mean       36163.01500  1.232073e+06  -117.482700    33.631748  \n",
       "std         9925.64664  3.531176e+05     0.552238     0.555978  \n",
       "min          172.00000  1.593866e+04  -118.110000    32.540000  \n",
       "25%        29403.75000  9.975771e+05  -117.930000    33.150000  \n",
       "50%        36199.00000  1.232669e+06  -117.625000    33.790000  \n",
       "75%        42861.00000  1.471210e+06  -117.140000    34.040000  \n",
       "max        69621.00000  2.469066e+06  -114.310000    36.640000  "
      ]
     },
     "execution_count": 12,
     "metadata": {},
     "output_type": "execute_result"
    }
   ],
   "source": [
    "# Hasil update dataset\n",
    "\n",
    "df.describe()"
   ]
  },
  {
   "cell_type": "markdown",
   "metadata": {
    "id": "5BGus0T0xn3x"
   },
   "source": [
    "# Exploratory Data Analysis (EDA)"
   ]
  },
  {
   "cell_type": "code",
   "execution_count": 13,
   "metadata": {
    "colab": {
     "base_uri": "https://localhost:8080/"
    },
    "execution": {
     "iopub.execute_input": "2021-06-03T20:05:24.715601Z",
     "iopub.status.busy": "2021-06-03T20:05:24.715238Z",
     "iopub.status.idle": "2021-06-03T20:05:24.722497Z",
     "shell.execute_reply": "2021-06-03T20:05:24.721374Z",
     "shell.execute_reply.started": "2021-06-03T20:05:24.715568Z"
    },
    "executionInfo": {
     "elapsed": 927,
     "status": "ok",
     "timestamp": 1654821144634,
     "user": {
      "displayName": "Ade Irvan",
      "userId": "15757670850542183529"
     },
     "user_tz": -420
    },
    "id": "YwJR2l2pPMRw",
    "outputId": "a5a9735c-1594-42b4-d996-2389c565a409"
   },
   "outputs": [
    {
     "data": {
      "text/plain": [
       "Index(['Area Income', 'House Age', 'Number of Rooms', 'Number of Bedrooms',\n",
       "       'Area Population', 'Price', 'Address', 'longitude', 'latitude'],\n",
       "      dtype='object')"
      ]
     },
     "execution_count": 13,
     "metadata": {},
     "output_type": "execute_result"
    }
   ],
   "source": [
    "df.columns"
   ]
  },
  {
   "cell_type": "markdown",
   "metadata": {
    "id": "u-kqyQ-p4EX6"
   },
   "source": [
    "## Korelasi Variabel"
   ]
  },
  {
   "cell_type": "code",
   "execution_count": 14,
   "metadata": {
    "colab": {
     "base_uri": "https://localhost:8080/",
     "height": 540
    },
    "execution": {
     "iopub.execute_input": "2021-06-03T20:05:24.724479Z",
     "iopub.status.busy": "2021-06-03T20:05:24.724071Z",
     "iopub.status.idle": "2021-06-03T20:05:25.237855Z",
     "shell.execute_reply": "2021-06-03T20:05:25.236777Z",
     "shell.execute_reply.started": "2021-06-03T20:05:24.724436Z"
    },
    "executionInfo": {
     "elapsed": 17,
     "status": "ok",
     "timestamp": 1654821149392,
     "user": {
      "displayName": "Ade Irvan",
      "userId": "15757670850542183529"
     },
     "user_tz": -420
    },
    "id": "cajZJTRbPMRx",
    "outputId": "e123a4ef-3474-4b74-b816-9f6210451f86"
   },
   "outputs": [
    {
     "data": {
      "image/png": "[encoded data removed]",
      "text/plain": [
       "<Figure size 648x504 with 2 Axes>"
      ]
     },
     "metadata": {
      "needs_background": "light"
     },
     "output_type": "display_data"
    }
   ],
   "source": [
    "plt.figure(figsize=(9,7))\n",
    "plt.title('Correlation Matrix')\n",
    "sns.heatmap(df.corr(),annot=True)\n",
    "\n",
    "plt.savefig('heatmap.jpg', dpi=200)"
   ]
  },
  {
   "cell_type": "code",
   "execution_count": 15,
   "metadata": {
    "colab": {
     "base_uri": "https://localhost:8080/"
    },
    "executionInfo": {
     "elapsed": 12,
     "status": "ok",
     "timestamp": 1654821151330,
     "user": {
      "displayName": "Ade Irvan",
      "userId": "15757670850542183529"
     },
     "user_tz": -420
    },
    "id": "U5tFHOCF6f2S",
    "outputId": "95c5d4ba-8808-4b09-c10a-41a3375ee07d"
   },
   "outputs": [
    {
     "data": {
      "text/plain": [
       "Price                 1.000000\n",
       "Area Income           0.639734\n",
       "House Age             0.452543\n",
       "Area Population       0.408556\n",
       "Number of Rooms       0.325114\n",
       "Number of Bedrooms    0.172429\n",
       "longitude             0.000484\n",
       "latitude             -0.020564\n",
       "Name: Price, dtype: float64"
      ]
     },
     "execution_count": 15,
     "metadata": {},
     "output_type": "execute_result"
    }
   ],
   "source": [
    "df.corr()[\"Price\"].sort_values(ascending=False)"
   ]
  },
  {
   "cell_type": "markdown",
   "metadata": {
    "id": "QOAiID7hPMRy"
   },
   "source": [
    "**Kesimpulan**\n",
    "\n",
    "\n",
    "*   Variabel Area Income memiliki korelasi yang paling tinggi diantara variabel yang lain\n",
    "*  Variabel Address tidak mempengaruhi karena berupa teks\n",
    "\n"
   ]
  },
  {
   "cell_type": "markdown",
   "metadata": {
    "id": "onLKGxqI4JXq"
   },
   "source": [
    "## Sebaran Data Variabel Price"
   ]
  },
  {
   "cell_type": "code",
   "execution_count": 16,
   "metadata": {
    "colab": {
     "base_uri": "https://localhost:8080/",
     "height": 290
    },
    "executionInfo": {
     "elapsed": 11,
     "status": "ok",
     "timestamp": 1654821151331,
     "user": {
      "displayName": "Ade Irvan",
      "userId": "15757670850542183529"
     },
     "user_tz": -420
    },
    "id": "ghlSzSy1xEFW",
    "outputId": "eae32945-54df-403f-afdb-c33db1824091"
   },
   "outputs": [
    {
     "data": {
      "image/png": "[encoded data removed]",
      "text/plain": [
       "<Figure size 432x288 with 1 Axes>"
      ]
     },
     "metadata": {
      "needs_background": "light"
     },
     "output_type": "display_data"
    }
   ],
   "source": [
    "# Melihat sebaran data price\n",
    "\n",
    "sns.distplot(df['Price'])\n",
    "plt.savefig('price_histogram.jpg',bbox_inches='tight', dpi=75)"
   ]
  },
  {
   "cell_type": "markdown",
   "metadata": {
    "id": "in-UINgMxfjp"
   },
   "source": [
    "**Kesimpulan**\n",
    "\n",
    "*   Sebaran data price terdistribusi normal.\n",
    "\n"
   ]
  },
  {
   "cell_type": "markdown",
   "metadata": {
    "id": "pTgyLfRE4QOj"
   },
   "source": [
    "## Melihat Distribusi Data Tiap Variabel Yang Digunakan"
   ]
  },
  {
   "cell_type": "code",
   "execution_count": 17,
   "metadata": {
    "colab": {
     "base_uri": "https://localhost:8080/",
     "height": 276
    },
    "executionInfo": {
     "elapsed": 11,
     "status": "ok",
     "timestamp": 1654821154480,
     "user": {
      "displayName": "Ade Irvan",
      "userId": "15757670850542183529"
     },
     "user_tz": -420
    },
    "id": "bW9_KiXrzSro",
    "outputId": "e7da179d-e73b-4f22-e9ba-26a8ba88690a"
   },
   "outputs": [
    {
     "data": {
      "image/png": "[encoded data removed]",
      "text/plain": [
       "<Figure size 864x288 with 2 Axes>"
      ]
     },
     "metadata": {
      "needs_background": "light"
     },
     "output_type": "display_data"
    }
   ],
   "source": [
    "# Melihat distribusi dari Area Income\n",
    "\n",
    "f = plt.figure(figsize=(12,4))\n",
    "\n",
    "f.add_subplot(1,2,1)\n",
    "df['Area Income'].plot(kind='kde')\n",
    "\n",
    "f.add_subplot(1,2,2)\n",
    "plt.boxplot(df['Area Income'])\n",
    "plt.show()"
   ]
  },
  {
   "cell_type": "markdown",
   "metadata": {
    "id": "kA0NKzWz3wKR"
   },
   "source": [
    "**Kesimpulan**\n",
    "\n",
    "* Sebagian besar pendapatan berada diangka 75000\n",
    "* Data memiliki sedikit outliers"
   ]
  },
  {
   "cell_type": "code",
   "execution_count": 18,
   "metadata": {
    "colab": {
     "base_uri": "https://localhost:8080/",
     "height": 265
    },
    "executionInfo": {
     "elapsed": 9,
     "status": "ok",
     "timestamp": 1654821155516,
     "user": {
      "displayName": "Ade Irvan",
      "userId": "15757670850542183529"
     },
     "user_tz": -420
    },
    "id": "2jE5DJlD4azY",
    "outputId": "a6190a25-fee5-49c1-c141-f511152740d9"
   },
   "outputs": [
    {
     "data": {
      "image/png": "[encoded data removed]",
      "text/plain": [
       "<Figure size 864x288 with 2 Axes>"
      ]
     },
     "metadata": {
      "needs_background": "light"
     },
     "output_type": "display_data"
    }
   ],
   "source": [
    "# Melihat distribusi dari House Age\n",
    "\n",
    "f = plt.figure(figsize=(12,4))\n",
    "\n",
    "f.add_subplot(1,2,1)\n",
    "df['House Age'].plot(kind='kde')\n",
    "\n",
    "f.add_subplot(1,2,2)\n",
    "plt.boxplot(df['House Age'])\n",
    "plt.show()"
   ]
  },
  {
   "cell_type": "markdown",
   "metadata": {
    "id": "Ey_ySQYM4eDY"
   },
   "source": [
    "**Kesimpulan**\n",
    "\n",
    "* sebagian besar usia rumah adalah 6 tahun\n",
    "* Data memiliki sedikit outliers"
   ]
  },
  {
   "cell_type": "code",
   "execution_count": 19,
   "metadata": {
    "colab": {
     "base_uri": "https://localhost:8080/",
     "height": 276
    },
    "executionInfo": {
     "elapsed": 8,
     "status": "ok",
     "timestamp": 1654821159673,
     "user": {
      "displayName": "Ade Irvan",
      "userId": "15757670850542183529"
     },
     "user_tz": -420
    },
    "id": "szQr7bdB4tK-",
    "outputId": "5804bf25-ffdd-43a9-92e6-4010a3cc83dc"
   },
   "outputs": [
    {
     "data": {
      "image/png": "[encoded data removed]",
      "text/plain": [
       "<Figure size 864x288 with 2 Axes>"
      ]
     },
     "metadata": {
      "needs_background": "light"
     },
     "output_type": "display_data"
    }
   ],
   "source": [
    "# Melihat distribusi dari Area Population\n",
    "# Data berupa continous/numerik, maka digunakan histogram garis\n",
    "\n",
    "f = plt.figure(figsize=(12,4))\n",
    "\n",
    "f.add_subplot(1,2,1)\n",
    "df['Area Population'].plot(kind='kde')\n",
    "\n",
    "f.add_subplot(1,2,2)\n",
    "plt.boxplot(df['Area Population'])\n",
    "plt.show()"
   ]
  },
  {
   "cell_type": "markdown",
   "metadata": {
    "id": "9UMDGTRP49tN"
   },
   "source": [
    "**Kesimpulan**\n",
    "\n",
    "* Sebagian besar populasi berada pada nilai 35000\n",
    "* Data memiliki sedikit outliers."
   ]
  },
  {
   "cell_type": "code",
   "execution_count": 19,
   "metadata": {
    "colab": {
     "base_uri": "https://localhost:8080/",
     "height": 279
    },
    "executionInfo": {
     "elapsed": 15,
     "status": "ok",
     "timestamp": 1654821160235,
     "user": {
      "displayName": "Ade Irvan",
      "userId": "15757670850542183529"
     },
     "user_tz": -420
    },
    "id": "0hh2CAFd5P6x",
    "outputId": "7953c7c7-cceb-4481-dc1a-274d73294888"
   },
   "outputs": [
    {
     "data": {
      "image/png": "[encoded data removed]",
      "text/plain": [
       "<Figure size 864x288 with 2 Axes>"
      ]
     },
     "metadata": {
      "needs_background": "light"
     },
     "output_type": "display_data"
    }
   ],
   "source": [
    "# Melihat distribusi dari Number of Rooms\n",
    "\n",
    "f = plt.figure(figsize=(12,4))\n",
    "\n",
    "f.add_subplot(1,2,1)\n",
    "sns.countplot(df['Number of Rooms'])\n",
    "# plt.savefig('jumlah_kamar.jpg',bbox_inches='tight', dpi=75)\n",
    "\n",
    "f.add_subplot(1,2,2)\n",
    "plt.boxplot(df['Number of Rooms'])\n",
    "plt.show()"
   ]
  },
  {
   "cell_type": "markdown",
   "metadata": {
    "id": "tRNHbWiw5YAt"
   },
   "source": [
    "**Kesimpulan**\n",
    "\n",
    "* Sebagian besar rumah memiliki jumlah kamar 6 dan 7\n",
    "* Data memiliki outliers."
   ]
  },
  {
   "cell_type": "code",
   "execution_count": 20,
   "metadata": {
    "colab": {
     "base_uri": "https://localhost:8080/",
     "height": 320
    },
    "executionInfo": {
     "elapsed": 14,
     "status": "ok",
     "timestamp": 1654821160237,
     "user": {
      "displayName": "Ade Irvan",
      "userId": "15757670850542183529"
     },
     "user_tz": -420
    },
    "id": "-nq7HKCO5sHG",
    "outputId": "3f61b1f3-e32b-47f9-af34-0598c50ba891"
   },
   "outputs": [
    {
     "data": {
      "image/png": "[encoded data removed]",
      "text/plain": [
       "<Figure size 1080x360 with 2 Axes>"
      ]
     },
     "metadata": {
      "needs_background": "light"
     },
     "output_type": "display_data"
    }
   ],
   "source": [
    "# Melihat distribusi dari Number of Bedrooms\n",
    "\n",
    "f = plt.figure(figsize=(15,5))\n",
    "\n",
    "f.add_subplot(1,2,1)\n",
    "sns.countplot(df['Number of Bedrooms'])\n",
    "# plt.savefig('jumlah_tempat tidur.jpg',bbox_inches='tight', dpi=75)\n",
    "f.add_subplot(1,2,2)\n",
    "plt.boxplot(df['Number of Bedrooms'])\n",
    "plt.show()"
   ]
  },
  {
   "cell_type": "markdown",
   "metadata": {
    "id": "jdZx5W2V58Qg"
   },
   "source": [
    "**Kesimpulan**\n",
    "\n",
    "* Sebagian besar rumah memiliki jumlah kamar tidur siap pakai 3 dan 4\n",
    "* Data memiliki outliers."
   ]
  },
  {
   "cell_type": "markdown",
   "metadata": {
    "id": "kKaWW39c6neW"
   },
   "source": [
    "## Hubungan antara independent dan dependent variabel"
   ]
  },
  {
   "cell_type": "code",
   "execution_count": null,
   "metadata": {
    "colab": {
     "base_uri": "https://localhost:8080/",
     "height": 285
    },
    "executionInfo": {
     "elapsed": 2880,
     "status": "ok",
     "timestamp": 1654587124854,
     "user": {
      "displayName": "Ade Irvan",
      "userId": "15757670850542183529"
     },
     "user_tz": -420
    },
    "id": "G8M1jbHz6v3V",
    "outputId": "005fae57-161b-49dc-980c-dc65ba89f39d"
   },
   "outputs": [
    {
     "data": {
      "text/plain": [
       "<Figure size 720x576 with 0 Axes>"
      ]
     },
     "metadata": {},
     "output_type": "display_data"
    },
    {
     "data": {
      "image/png": "[encoded data removed]",
      "text/plain": [
       "<Figure size 1350x360 with 5 Axes>"
      ]
     },
     "metadata": {
      "needs_background": "light"
     },
     "output_type": "display_data"
    }
   ],
   "source": [
    "plt.figure(figsize=(10,8))\n",
    "sns.pairplot(data=df, x_vars=df.drop(['Price', 'Address', 'longitude', 'latitude'], axis=1), y_vars=['Price'], size=5, aspect=0.75)\n",
    "plt.show()"
   ]
  },
  {
   "cell_type": "markdown",
   "metadata": {
    "id": "87YmJ5HBzOMh"
   },
   "source": [
    "\n",
    "\n",
    "---\n",
    "\n",
    "\n",
    "\n",
    "---\n",
    "\n"
   ]
  },
  {
   "cell_type": "markdown",
   "metadata": {
    "id": "CWy4x9sa7RS3"
   },
   "source": [
    "# Modelling"
   ]
  },
  {
   "cell_type": "code",
   "execution_count": 21,
   "metadata": {
    "colab": {
     "base_uri": "https://localhost:8080/",
     "height": 424
    },
    "executionInfo": {
     "elapsed": 765,
     "status": "ok",
     "timestamp": 1654821164687,
     "user": {
      "displayName": "Ade Irvan",
      "userId": "15757670850542183529"
     },
     "user_tz": -420
    },
    "id": "iWzGiXZG7l0Z",
    "outputId": "858509c5-407d-497c-b64c-7a94073aaeb2"
   },
   "outputs": [
    {
     "data": {
      "text/html": [
       "\n",
       "  <div id=\"df-1e061ad3-7023-4a5c-8b19-e38b2b49e6a0\">\n",
       "    <div class=\"colab-df-container\">\n",
       "      <div>\n",
       "<style scoped>\n",
       "    .dataframe tbody tr th:only-of-type {\n",
       "        vertical-align: middle;\n",
       "    }\n",
       "\n",
       "    .dataframe tbody tr th {\n",
       "        vertical-align: top;\n",
       "    }\n",
       "\n",
       "    .dataframe thead th {\n",
       "        text-align: right;\n",
       "    }\n",
       "</style>\n",
       "<table border=\"1\" class=\"dataframe\">\n",
       "  <thead>\n",
       "    <tr style=\"text-align: right;\">\n",
       "      <th></th>\n",
       "      <th>Area Income</th>\n",
       "      <th>House Age</th>\n",
       "      <th>Number of Rooms</th>\n",
       "      <th>Number of Bedrooms</th>\n",
       "      <th>Area Population</th>\n",
       "      <th>Price</th>\n",
       "      <th>Address</th>\n",
       "      <th>longitude</th>\n",
       "      <th>latitude</th>\n",
       "    </tr>\n",
       "  </thead>\n",
       "  <tbody>\n",
       "    <tr>\n",
       "      <th>0</th>\n",
       "      <td>79545.458574</td>\n",
       "      <td>5.682861</td>\n",
       "      <td>7</td>\n",
       "      <td>4</td>\n",
       "      <td>23086</td>\n",
       "      <td>1.059034e+06</td>\n",
       "      <td>208 Michael Ferry Apt. 674\\nLaurabury, NE 3701...</td>\n",
       "      <td>-114.31</td>\n",
       "      <td>34.19</td>\n",
       "    </tr>\n",
       "    <tr>\n",
       "      <th>1</th>\n",
       "      <td>79248.642455</td>\n",
       "      <td>6.002900</td>\n",
       "      <td>6</td>\n",
       "      <td>3</td>\n",
       "      <td>40173</td>\n",
       "      <td>1.505891e+06</td>\n",
       "      <td>188 Johnson Views Suite 079\\nLake Kathleen, CA...</td>\n",
       "      <td>-114.47</td>\n",
       "      <td>34.40</td>\n",
       "    </tr>\n",
       "    <tr>\n",
       "      <th>2</th>\n",
       "      <td>61287.067179</td>\n",
       "      <td>5.865890</td>\n",
       "      <td>8</td>\n",
       "      <td>5</td>\n",
       "      <td>36882</td>\n",
       "      <td>1.058988e+06</td>\n",
       "      <td>9127 Elizabeth Stravenue\\nDanieltown, WI 06482...</td>\n",
       "      <td>-114.56</td>\n",
       "      <td>33.69</td>\n",
       "    </tr>\n",
       "    <tr>\n",
       "      <th>3</th>\n",
       "      <td>63345.240046</td>\n",
       "      <td>7.188236</td>\n",
       "      <td>5</td>\n",
       "      <td>3</td>\n",
       "      <td>34310</td>\n",
       "      <td>1.260617e+06</td>\n",
       "      <td>USS Barnett\\nFPO AP 44820</td>\n",
       "      <td>-114.57</td>\n",
       "      <td>33.64</td>\n",
       "    </tr>\n",
       "    <tr>\n",
       "      <th>4</th>\n",
       "      <td>59982.197226</td>\n",
       "      <td>5.040555</td>\n",
       "      <td>7</td>\n",
       "      <td>4</td>\n",
       "      <td>26354</td>\n",
       "      <td>6.309435e+05</td>\n",
       "      <td>USNS Raymond\\nFPO AE 09386</td>\n",
       "      <td>-114.57</td>\n",
       "      <td>33.57</td>\n",
       "    </tr>\n",
       "  </tbody>\n",
       "</table>\n",
       "</div>\n",
       "      <button class=\"colab-df-convert\" onclick=\"convertToInteractive('df-1e061ad3-7023-4a5c-8b19-e38b2b49e6a0')\"\n",
       "              title=\"Convert this dataframe to an interactive table.\"\n",
       "              style=\"display:none;\">\n",
       "        \n",
       "  <svg xmlns=\"http://www.w3.org/2000/svg\" height=\"24px\"viewBox=\"0 0 24 24\"\n",
       "       width=\"24px\">\n",
       "    <path d=\"M0 0h24v24H0V0z\" fill=\"none\"/>\n",
       "    <path d=\"M18.56 5.44l.94 2.06.94-2.06 2.06-.94-2.06-.94-.94-2.06-.94 2.06-2.06.94zm-11 1L8.5 8.5l.94-2.06 2.06-.94-2.06-.94L8.5 2.5l-.94 2.06-2.06.94zm10 10l.94 2.06.94-2.06 2.06-.94-2.06-.94-.94-2.06-.94 2.06-2.06.94z\"/><path d=\"M17.41 7.96l-1.37-1.37c-.4-.4-.92-.59-1.43-.59-.52 0-1.04.2-1.43.59L10.3 9.45l-7.72 7.72c-.78.78-.78 2.05 0 2.83L4 21.41c.39.39.9.59 1.41.59.51 0 1.02-.2 1.41-.59l7.78-7.78 2.81-2.81c.8-.78.8-2.07 0-2.86zM5.41 20L4 18.59l7.72-7.72 1.47 1.35L5.41 20z\"/>\n",
       "  </svg>\n",
       "      </button>\n",
       "      \n",
       "  <style>\n",
       "    .colab-df-container {\n",
       "      display:flex;\n",
       "      flex-wrap:wrap;\n",
       "      gap: 12px;\n",
       "    }\n",
       "\n",
       "    .colab-df-convert {\n",
       "      background-color: #E8F0FE;\n",
       "      border: none;\n",
       "      border-radius: 50%;\n",
       "      cursor: pointer;\n",
       "      display: none;\n",
       "      fill: #1967D2;\n",
       "      height: 32px;\n",
       "      padding: 0 0 0 0;\n",
       "      width: 32px;\n",
       "    }\n",
       "\n",
       "    .colab-df-convert:hover {\n",
       "      background-color: #E2EBFA;\n",
       "      box-shadow: 0px 1px 2px rgba(60, 64, 67, 0.3), 0px 1px 3px 1px rgba(60, 64, 67, 0.15);\n",
       "      fill: #174EA6;\n",
       "    }\n",
       "\n",
       "    [theme=dark] .colab-df-convert {\n",
       "      background-color: #3B4455;\n",
       "      fill: #D2E3FC;\n",
       "    }\n",
       "\n",
       "    [theme=dark] .colab-df-convert:hover {\n",
       "      background-color: #434B5C;\n",
       "      box-shadow: 0px 1px 3px 1px rgba(0, 0, 0, 0.15);\n",
       "      filter: drop-shadow(0px 1px 2px rgba(0, 0, 0, 0.3));\n",
       "      fill: #FFFFFF;\n",
       "    }\n",
       "  </style>\n",
       "\n",
       "      <script>\n",
       "        const buttonEl =\n",
       "          document.querySelector('#df-1e061ad3-7023-4a5c-8b19-e38b2b49e6a0 button.colab-df-convert');\n",
       "        buttonEl.style.display =\n",
       "          google.colab.kernel.accessAllowed ? 'block' : 'none';\n",
       "\n",
       "        async function convertToInteractive(key) {\n",
       "          const element = document.querySelector('#df-1e061ad3-7023-4a5c-8b19-e38b2b49e6a0');\n",
       "          const dataTable =\n",
       "            await google.colab.kernel.invokeFunction('convertToInteractive',\n",
       "                                                     [key], {});\n",
       "          if (!dataTable) return;\n",
       "\n",
       "          const docLinkHtml = 'Like what you see? Visit the ' +\n",
       "            '<a target=\"_blank\" href=https://colab.research.google.com/notebooks/data_table.ipynb>data table notebook</a>'\n",
       "            + ' to learn more about interactive tables.';\n",
       "          element.innerHTML = '';\n",
       "          dataTable['output_type'] = 'display_data';\n",
       "          await google.colab.output.renderOutput(dataTable, element);\n",
       "          const docLink = document.createElement('div');\n",
       "          docLink.innerHTML = docLinkHtml;\n",
       "          element.appendChild(docLink);\n",
       "        }\n",
       "      </script>\n",
       "    </div>\n",
       "  </div>\n",
       "  "
      ],
      "text/plain": [
       "    Area Income  House Age  Number of Rooms  Number of Bedrooms  \\\n",
       "0  79545.458574   5.682861                7                   4   \n",
       "1  79248.642455   6.002900                6                   3   \n",
       "2  61287.067179   5.865890                8                   5   \n",
       "3  63345.240046   7.188236                5                   3   \n",
       "4  59982.197226   5.040555                7                   4   \n",
       "\n",
       "   Area Population         Price  \\\n",
       "0            23086  1.059034e+06   \n",
       "1            40173  1.505891e+06   \n",
       "2            36882  1.058988e+06   \n",
       "3            34310  1.260617e+06   \n",
       "4            26354  6.309435e+05   \n",
       "\n",
       "                                             Address  longitude  latitude  \n",
       "0  208 Michael Ferry Apt. 674\\nLaurabury, NE 3701...    -114.31     34.19  \n",
       "1  188 Johnson Views Suite 079\\nLake Kathleen, CA...    -114.47     34.40  \n",
       "2  9127 Elizabeth Stravenue\\nDanieltown, WI 06482...    -114.56     33.69  \n",
       "3                          USS Barnett\\nFPO AP 44820    -114.57     33.64  \n",
       "4                         USNS Raymond\\nFPO AE 09386    -114.57     33.57  "
      ]
     },
     "execution_count": 21,
     "metadata": {},
     "output_type": "execute_result"
    }
   ],
   "source": [
    "df.head()"
   ]
  },
  {
   "cell_type": "code",
   "execution_count": 22,
   "metadata": {
    "executionInfo": {
     "elapsed": 689,
     "status": "ok",
     "timestamp": 1654821167781,
     "user": {
      "displayName": "Ade Irvan",
      "userId": "15757670850542183529"
     },
     "user_tz": -420
    },
    "id": "_Igrn-ME8BiO"
   },
   "outputs": [],
   "source": [
    "# Buat variabel x dan y\n",
    "\n",
    "X = df.drop(['Price','Address','longitude', 'latitude'], axis=1)\n",
    "y = df['Price']"
   ]
  },
  {
   "cell_type": "markdown",
   "metadata": {
    "id": "wbf1IMdM8NKl"
   },
   "source": [
    "## Split Dataset"
   ]
  },
  {
   "cell_type": "code",
   "execution_count": 25,
   "metadata": {
    "colab": {
     "base_uri": "https://localhost:8080/"
    },
    "executionInfo": {
     "elapsed": 1036,
     "status": "ok",
     "timestamp": 1654821185718,
     "user": {
      "displayName": "Ade Irvan",
      "userId": "15757670850542183529"
     },
     "user_tz": -420
    },
    "id": "7-LACp4U8QZ4",
    "outputId": "319ebfa8-01db-4c13-fb98-d329f2dc33fd"
   },
   "outputs": [
    {
     "name": "stdout",
     "output_type": "stream",
     "text": [
      "(4000, 5)\n",
      "(4000,)\n",
      "(1000, 5)\n",
      "(1000,)\n"
     ]
    }
   ],
   "source": [
    "from sklearn.model_selection import train_test_split\n",
    "\n",
    "x_train, x_test, y_train, y_test = train_test_split(X, y, test_size=0.2, random_state=10)\n",
    "\n",
    "print(x_train.shape)\n",
    "print(y_train.shape)\n",
    "print(x_test.shape)\n",
    "print(y_test.shape)"
   ]
  },
  {
   "cell_type": "markdown",
   "metadata": {
    "id": "H0-I-8Fm8lUD"
   },
   "source": [
    "## Linear Regression"
   ]
  },
  {
   "cell_type": "code",
   "execution_count": 26,
   "metadata": {
    "executionInfo": {
     "elapsed": 4,
     "status": "ok",
     "timestamp": 1654821189071,
     "user": {
      "displayName": "Ade Irvan",
      "userId": "15757670850542183529"
     },
     "user_tz": -420
    },
    "id": "xcfxGRDe8xE9"
   },
   "outputs": [],
   "source": [
    "from sklearn.metrics import r2_score"
   ]
  },
  {
   "cell_type": "code",
   "execution_count": 27,
   "metadata": {
    "colab": {
     "base_uri": "https://localhost:8080/"
    },
    "executionInfo": {
     "elapsed": 815,
     "status": "ok",
     "timestamp": 1654821190597,
     "user": {
      "displayName": "Ade Irvan",
      "userId": "15757670850542183529"
     },
     "user_tz": -420
    },
    "id": "4XTf4wpg8ods",
    "outputId": "32974946-576f-44f3-e500-97bd9d3f5a49"
   },
   "outputs": [
    {
     "name": "stdout",
     "output_type": "stream",
     "text": [
      "R² score: 91.08666226612652\n"
     ]
    }
   ],
   "source": [
    "from sklearn.linear_model import LinearRegression\n",
    "\n",
    "lin_reg = LinearRegression()\n",
    "lin_reg.fit(x_train,y_train)\n",
    "\n",
    "print(f'R² score: {r2_score(y_test, lin_reg.predict(x_test))*100}')"
   ]
  },
  {
   "cell_type": "code",
   "execution_count": 28,
   "metadata": {
    "colab": {
     "base_uri": "https://localhost:8080/",
     "height": 306
    },
    "executionInfo": {
     "elapsed": 14,
     "status": "ok",
     "timestamp": 1654821194160,
     "user": {
      "displayName": "Ade Irvan",
      "userId": "15757670850542183529"
     },
     "user_tz": -420
    },
    "id": "CHvIZUHO9X0j",
    "outputId": "60e33405-2c3a-4b22-b30e-08029d4ac716"
   },
   "outputs": [
    {
     "data": {
      "text/plain": [
       "[<matplotlib.lines.Line2D at 0x7faf2bfcef90>]"
      ]
     },
     "execution_count": 28,
     "metadata": {},
     "output_type": "execute_result"
    },
    {
     "data": {
      "image/png": "[encoded data removed]",
      "text/plain": [
       "<Figure size 432x288 with 1 Axes>"
      ]
     },
     "metadata": {
      "needs_background": "light"
     },
     "output_type": "display_data"
    }
   ],
   "source": [
    "# Linear Regression Graph\n",
    "\n",
    "plt.scatter(y_test,lin_reg.predict(x_test), color=\"b\")\n",
    "plt.plot(lin_reg.predict(x_test),lin_reg.predict(x_test), color=\"r\")"
   ]
  },
  {
   "cell_type": "markdown",
   "metadata": {
    "id": "ZpBdATnM9UPf"
   },
   "source": [
    "## Polynomial Regression"
   ]
  },
  {
   "cell_type": "code",
   "execution_count": 29,
   "metadata": {
    "colab": {
     "base_uri": "https://localhost:8080/"
    },
    "executionInfo": {
     "elapsed": 593,
     "status": "ok",
     "timestamp": 1654821198424,
     "user": {
      "displayName": "Ade Irvan",
      "userId": "15757670850542183529"
     },
     "user_tz": -420
    },
    "id": "WL1B6a5y-Lpt",
    "outputId": "46d05385-b279-4508-aeb8-db1180abf46b"
   },
   "outputs": [
    {
     "name": "stdout",
     "output_type": "stream",
     "text": [
      "R² score: 89.80624871267861\n"
     ]
    }
   ],
   "source": [
    "from sklearn.preprocessing import PolynomialFeatures\n",
    "\n",
    "poly_reg = PolynomialFeatures(degree = 3)\n",
    "x_poly_train = poly_reg.fit_transform(x_train)\n",
    "x_poly_test = poly_reg.fit_transform(x_test)\n",
    "\n",
    "lin_reg2 = LinearRegression()\n",
    "lin_reg2.fit(x_poly_train,y_train)\n",
    "\n",
    "\n",
    "print(f'R² score: {r2_score(y_test, lin_reg2.predict(x_poly_test))*100}')"
   ]
  },
  {
   "cell_type": "code",
   "execution_count": 30,
   "metadata": {
    "colab": {
     "base_uri": "https://localhost:8080/",
     "height": 306
    },
    "executionInfo": {
     "elapsed": 836,
     "status": "ok",
     "timestamp": 1654821200218,
     "user": {
      "displayName": "Ade Irvan",
      "userId": "15757670850542183529"
     },
     "user_tz": -420
    },
    "id": "WWyaLvQ5_Y_w",
    "outputId": "3bcc1143-1b68-4f2b-d16c-185ad42f98d6"
   },
   "outputs": [
    {
     "data": {
      "text/plain": [
       "[<matplotlib.lines.Line2D at 0x7faf2e1c6610>]"
      ]
     },
     "execution_count": 30,
     "metadata": {},
     "output_type": "execute_result"
    },
    {
     "data": {
      "image/png": "[encoded data removed]",
      "text/plain": [
       "<Figure size 432x288 with 1 Axes>"
      ]
     },
     "metadata": {
      "needs_background": "light"
     },
     "output_type": "display_data"
    }
   ],
   "source": [
    "# Polynomial Regression Graph\n",
    "\n",
    "plt.scatter(y_test,lin_reg2.predict(x_poly_test), color=\"b\")\n",
    "plt.plot(lin_reg2.predict(x_poly_test),lin_reg2.predict(x_poly_test), color=\"r\")"
   ]
  },
  {
   "cell_type": "markdown",
   "metadata": {
    "id": "CmmY35FrC0C2"
   },
   "source": [
    "## Decision Tree"
   ]
  },
  {
   "cell_type": "code",
   "execution_count": 31,
   "metadata": {
    "colab": {
     "base_uri": "https://localhost:8080/"
    },
    "executionInfo": {
     "elapsed": 6,
     "status": "ok",
     "timestamp": 1654821200642,
     "user": {
      "displayName": "Ade Irvan",
      "userId": "15757670850542183529"
     },
     "user_tz": -420
    },
    "id": "OZR7bOaXC4at",
    "outputId": "1da6aa55-ef6e-4d40-f2b6-8fab88206a21"
   },
   "outputs": [
    {
     "name": "stdout",
     "output_type": "stream",
     "text": [
      "R² score: 73.19904481112361\n"
     ]
    }
   ],
   "source": [
    "from sklearn.tree import DecisionTreeRegressor\n",
    "\n",
    "r_dt = DecisionTreeRegressor(random_state=0)\n",
    "r_dt.fit(x_train,y_train)\n",
    "\n",
    "print(f'R² score: {r2_score(y_test, r_dt.predict(x_test))*100}')"
   ]
  },
  {
   "cell_type": "code",
   "execution_count": 32,
   "metadata": {
    "colab": {
     "base_uri": "https://localhost:8080/",
     "height": 306
    },
    "executionInfo": {
     "elapsed": 11,
     "status": "ok",
     "timestamp": 1654821202894,
     "user": {
      "displayName": "Ade Irvan",
      "userId": "15757670850542183529"
     },
     "user_tz": -420
    },
    "id": "7qKlV-khDLdt",
    "outputId": "db1f46d1-4902-4d81-c541-0e490f362f86"
   },
   "outputs": [
    {
     "data": {
      "text/plain": [
       "[<matplotlib.lines.Line2D at 0x7faf30b9cd10>]"
      ]
     },
     "execution_count": 32,
     "metadata": {},
     "output_type": "execute_result"
    },
    {
     "data": {
      "image/png": "[encoded data removed]",
      "text/plain": [
       "<Figure size 432x288 with 1 Axes>"
      ]
     },
     "metadata": {
      "needs_background": "light"
     },
     "output_type": "display_data"
    }
   ],
   "source": [
    "# Decision Tree - Regression Graph\n",
    "\n",
    "plt.scatter(y_test,r_dt.predict(x_test), color=\"b\")\n",
    "plt.plot(r_dt.predict(x_test),r_dt.predict(x_test), color=\"r\") "
   ]
  },
  {
   "cell_type": "markdown",
   "metadata": {
    "id": "beflcbS5DdAS"
   },
   "source": [
    "## Random Forest"
   ]
  },
  {
   "cell_type": "code",
   "execution_count": 33,
   "metadata": {
    "colab": {
     "base_uri": "https://localhost:8080/"
    },
    "executionInfo": {
     "elapsed": 2009,
     "status": "ok",
     "timestamp": 1654821205494,
     "user": {
      "displayName": "Ade Irvan",
      "userId": "15757670850542183529"
     },
     "user_tz": -420
    },
    "id": "kC7dJL6CDgvr",
    "outputId": "18dd817a-0336-4795-b959-45446ea75a0b"
   },
   "outputs": [
    {
     "name": "stdout",
     "output_type": "stream",
     "text": [
      "R² score: 86.79771486598966\n"
     ]
    }
   ],
   "source": [
    "from sklearn.ensemble import RandomForestRegressor\n",
    "\n",
    "rf_reg=RandomForestRegressor(n_estimators = 100,random_state=0)\n",
    "rf_reg.fit(x_train,y_train)\n",
    "\n",
    "print(f'R² score: {r2_score(y_test, rf_reg.predict(x_test))*100}')"
   ]
  },
  {
   "cell_type": "code",
   "execution_count": 34,
   "metadata": {
    "colab": {
     "base_uri": "https://localhost:8080/",
     "height": 306
    },
    "executionInfo": {
     "elapsed": 16,
     "status": "ok",
     "timestamp": 1654821205495,
     "user": {
      "displayName": "Ade Irvan",
      "userId": "15757670850542183529"
     },
     "user_tz": -420
    },
    "id": "VNuGLiZ3DxOH",
    "outputId": "e6b5969b-2eac-40c2-de62-f1fe3b4a2067"
   },
   "outputs": [
    {
     "data": {
      "text/plain": [
       "[<matplotlib.lines.Line2D at 0x7faf2beacf50>]"
      ]
     },
     "execution_count": 34,
     "metadata": {},
     "output_type": "execute_result"
    },
    {
     "data": {
      "image/png": "[encoded data removed]",
      "text/plain": [
       "<Figure size 432x288 with 1 Axes>"
      ]
     },
     "metadata": {
      "needs_background": "light"
     },
     "output_type": "display_data"
    }
   ],
   "source": [
    "# Random Forest - Regression Graph\n",
    "\n",
    "plt.scatter(y_test,rf_reg.predict(x_test), color=\"b\")\n",
    "plt.plot(rf_reg.predict(x_test),rf_reg.predict(x_test), color=\"r\") "
   ]
  },
  {
   "cell_type": "markdown",
   "metadata": {
    "id": "rpXhfbHNUhXy"
   },
   "source": [
    "# Komparasi"
   ]
  },
  {
   "cell_type": "code",
   "execution_count": 35,
   "metadata": {
    "executionInfo": {
     "elapsed": 4,
     "status": "ok",
     "timestamp": 1654821206081,
     "user": {
      "displayName": "Ade Irvan",
      "userId": "15757670850542183529"
     },
     "user_tz": -420
    },
    "id": "CUCQjVApi8dp"
   },
   "outputs": [],
   "source": [
    "def evaluate_model(model, x_test, y_test):\n",
    "\n",
    "    from sklearn import metrics\n",
    "\n",
    "    # Prediksi data uji \n",
    "    y_pred = model.predict(x_test)\n",
    "\n",
    "    # Menghitung akurasi, presisi, recall, f1-score, dan kappa score\n",
    "    acc = model.score(x_test,y_test)\n",
    "    mae = metrics.mean_absolute_error(y_test, y_pred)\n",
    "    mse = metrics.mean_squared_error(y_test, y_pred)\n",
    "    rmse = np.sqrt(mse)  \n",
    "\n",
    "    return {'acc': acc, 'mae': mae, 'mse': mse, 'rmse': rmse}"
   ]
  },
  {
   "cell_type": "code",
   "execution_count": 36,
   "metadata": {
    "colab": {
     "base_uri": "https://localhost:8080/"
    },
    "executionInfo": {
     "elapsed": 963,
     "status": "ok",
     "timestamp": 1654821209914,
     "user": {
      "displayName": "Ade Irvan",
      "userId": "15757670850542183529"
     },
     "user_tz": -420
    },
    "id": "iiqBn1vzjEaN",
    "outputId": "93cc0512-0318-4eb5-edc5-10598c9bf9d3"
   },
   "outputs": [
    {
     "name": "stdout",
     "output_type": "stream",
     "text": [
      "Accuracy: 0.9108666226612652\n",
      "MAE: 84521.96485698939\n",
      "MSE: 11188938458.487274\n",
      "RMSE: 105777.77866115017\n"
     ]
    }
   ],
   "source": [
    "linear_eval = evaluate_model(lin_reg, x_test, y_test)\n",
    "poly_eval = evaluate_model(lin_reg2, x_poly_test, y_test)\n",
    "dt_eval = evaluate_model(r_dt, x_test, y_test)\n",
    "rf_eval = evaluate_model(rf_reg, x_test, y_test)\n",
    "\n",
    "\n",
    "\n",
    "print('Accuracy:', linear_eval['acc'])\n",
    "print('MAE:', linear_eval['mae'])\n",
    "print('MSE:', linear_eval['mse'])\n",
    "print('RMSE:', linear_eval['rmse'])"
   ]
  },
  {
   "cell_type": "code",
   "execution_count": 37,
   "metadata": {
    "colab": {
     "base_uri": "https://localhost:8080/"
    },
    "executionInfo": {
     "elapsed": 11,
     "status": "ok",
     "timestamp": 1654821212805,
     "user": {
      "displayName": "Ade Irvan",
      "userId": "15757670850542183529"
     },
     "user_tz": -420
    },
    "id": "fADJfgQG69W3",
    "outputId": "df3b0462-d51f-4d16-92e6-916fc39a41db"
   },
   "outputs": [
    {
     "name": "stdout",
     "output_type": "stream",
     "text": [
      "{'acc': (0.9108666226612652, 0.898062487126786, 0.7319904481112361, 0.8679771486598966), 'mae': (84521.96485698939, 89923.9901815297, 142987.06062010277, 103014.37838034233), 'mse': (11188938458.487274, 12796245269.772636, 33643316027.103603, 16572866448.722383), 'rmse': (105777.77866115017, 113120.49005274259, 183421.14389323714, 128735.64560261615)}\n"
     ]
    }
   ],
   "source": [
    "keys = linear_eval.keys()\n",
    "values = zip(linear_eval.values(), poly_eval.values(), dt_eval.values(), rf_eval.values())\n",
    "dictionary = dict(zip(keys, values))\n",
    "\n",
    "print(dictionary)"
   ]
  },
  {
   "cell_type": "code",
   "execution_count": 38,
   "metadata": {
    "colab": {
     "base_uri": "https://localhost:8080/",
     "height": 175
    },
    "executionInfo": {
     "elapsed": 9,
     "status": "ok",
     "timestamp": 1654821216904,
     "user": {
      "displayName": "Ade Irvan",
      "userId": "15757670850542183529"
     },
     "user_tz": -420
    },
    "id": "CZD6ELHK7p1P",
    "outputId": "f1523c8c-08c0-4c94-97b8-2c1b44b09d33"
   },
   "outputs": [
    {
     "data": {
      "text/html": [
       "\n",
       "  <div id=\"df-94ccbe2a-7d01-4bab-bb0d-b80f076b3a6c\">\n",
       "    <div class=\"colab-df-container\">\n",
       "      <div>\n",
       "<style scoped>\n",
       "    .dataframe tbody tr th:only-of-type {\n",
       "        vertical-align: middle;\n",
       "    }\n",
       "\n",
       "    .dataframe tbody tr th {\n",
       "        vertical-align: top;\n",
       "    }\n",
       "\n",
       "    .dataframe thead th {\n",
       "        text-align: right;\n",
       "    }\n",
       "</style>\n",
       "<table border=\"1\" class=\"dataframe\">\n",
       "  <thead>\n",
       "    <tr style=\"text-align: right;\">\n",
       "      <th></th>\n",
       "      <th>acc</th>\n",
       "      <th>mae</th>\n",
       "      <th>mse</th>\n",
       "      <th>rmse</th>\n",
       "    </tr>\n",
       "  </thead>\n",
       "  <tbody>\n",
       "    <tr>\n",
       "      <th>Linear Regression</th>\n",
       "      <td>0.910867</td>\n",
       "      <td>84521.964857</td>\n",
       "      <td>1.118894e+10</td>\n",
       "      <td>105777.778661</td>\n",
       "    </tr>\n",
       "    <tr>\n",
       "      <th>Polynomial Regression</th>\n",
       "      <td>0.898062</td>\n",
       "      <td>89923.990182</td>\n",
       "      <td>1.279625e+10</td>\n",
       "      <td>113120.490053</td>\n",
       "    </tr>\n",
       "    <tr>\n",
       "      <th>Decision Tree</th>\n",
       "      <td>0.731990</td>\n",
       "      <td>142987.060620</td>\n",
       "      <td>3.364332e+10</td>\n",
       "      <td>183421.143893</td>\n",
       "    </tr>\n",
       "    <tr>\n",
       "      <th>Random Forest</th>\n",
       "      <td>0.867977</td>\n",
       "      <td>103014.378380</td>\n",
       "      <td>1.657287e+10</td>\n",
       "      <td>128735.645603</td>\n",
       "    </tr>\n",
       "  </tbody>\n",
       "</table>\n",
       "</div>\n",
       "      <button class=\"colab-df-convert\" onclick=\"convertToInteractive('df-94ccbe2a-7d01-4bab-bb0d-b80f076b3a6c')\"\n",
       "              title=\"Convert this dataframe to an interactive table.\"\n",
       "              style=\"display:none;\">\n",
       "        \n",
       "  <svg xmlns=\"http://www.w3.org/2000/svg\" height=\"24px\"viewBox=\"0 0 24 24\"\n",
       "       width=\"24px\">\n",
       "    <path d=\"M0 0h24v24H0V0z\" fill=\"none\"/>\n",
       "    <path d=\"M18.56 5.44l.94 2.06.94-2.06 2.06-.94-2.06-.94-.94-2.06-.94 2.06-2.06.94zm-11 1L8.5 8.5l.94-2.06 2.06-.94-2.06-.94L8.5 2.5l-.94 2.06-2.06.94zm10 10l.94 2.06.94-2.06 2.06-.94-2.06-.94-.94-2.06-.94 2.06-2.06.94z\"/><path d=\"M17.41 7.96l-1.37-1.37c-.4-.4-.92-.59-1.43-.59-.52 0-1.04.2-1.43.59L10.3 9.45l-7.72 7.72c-.78.78-.78 2.05 0 2.83L4 21.41c.39.39.9.59 1.41.59.51 0 1.02-.2 1.41-.59l7.78-7.78 2.81-2.81c.8-.78.8-2.07 0-2.86zM5.41 20L4 18.59l7.72-7.72 1.47 1.35L5.41 20z\"/>\n",
       "  </svg>\n",
       "      </button>\n",
       "      \n",
       "  <style>\n",
       "    .colab-df-container {\n",
       "      display:flex;\n",
       "      flex-wrap:wrap;\n",
       "      gap: 12px;\n",
       "    }\n",
       "\n",
       "    .colab-df-convert {\n",
       "      background-color: #E8F0FE;\n",
       "      border: none;\n",
       "      border-radius: 50%;\n",
       "      cursor: pointer;\n",
       "      display: none;\n",
       "      fill: #1967D2;\n",
       "      height: 32px;\n",
       "      padding: 0 0 0 0;\n",
       "      width: 32px;\n",
       "    }\n",
       "\n",
       "    .colab-df-convert:hover {\n",
       "      background-color: #E2EBFA;\n",
       "      box-shadow: 0px 1px 2px rgba(60, 64, 67, 0.3), 0px 1px 3px 1px rgba(60, 64, 67, 0.15);\n",
       "      fill: #174EA6;\n",
       "    }\n",
       "\n",
       "    [theme=dark] .colab-df-convert {\n",
       "      background-color: #3B4455;\n",
       "      fill: #D2E3FC;\n",
       "    }\n",
       "\n",
       "    [theme=dark] .colab-df-convert:hover {\n",
       "      background-color: #434B5C;\n",
       "      box-shadow: 0px 1px 3px 1px rgba(0, 0, 0, 0.15);\n",
       "      filter: drop-shadow(0px 1px 2px rgba(0, 0, 0, 0.3));\n",
       "      fill: #FFFFFF;\n",
       "    }\n",
       "  </style>\n",
       "\n",
       "      <script>\n",
       "        const buttonEl =\n",
       "          document.querySelector('#df-94ccbe2a-7d01-4bab-bb0d-b80f076b3a6c button.colab-df-convert');\n",
       "        buttonEl.style.display =\n",
       "          google.colab.kernel.accessAllowed ? 'block' : 'none';\n",
       "\n",
       "        async function convertToInteractive(key) {\n",
       "          const element = document.querySelector('#df-94ccbe2a-7d01-4bab-bb0d-b80f076b3a6c');\n",
       "          const dataTable =\n",
       "            await google.colab.kernel.invokeFunction('convertToInteractive',\n",
       "                                                     [key], {});\n",
       "          if (!dataTable) return;\n",
       "\n",
       "          const docLinkHtml = 'Like what you see? Visit the ' +\n",
       "            '<a target=\"_blank\" href=https://colab.research.google.com/notebooks/data_table.ipynb>data table notebook</a>'\n",
       "            + ' to learn more about interactive tables.';\n",
       "          element.innerHTML = '';\n",
       "          dataTable['output_type'] = 'display_data';\n",
       "          await google.colab.output.renderOutput(dataTable, element);\n",
       "          const docLink = document.createElement('div');\n",
       "          docLink.innerHTML = docLinkHtml;\n",
       "          element.appendChild(docLink);\n",
       "        }\n",
       "      </script>\n",
       "    </div>\n",
       "  </div>\n",
       "  "
      ],
      "text/plain": [
       "                            acc            mae           mse           rmse\n",
       "Linear Regression      0.910867   84521.964857  1.118894e+10  105777.778661\n",
       "Polynomial Regression  0.898062   89923.990182  1.279625e+10  113120.490053\n",
       "Decision Tree          0.731990  142987.060620  3.364332e+10  183421.143893\n",
       "Random Forest          0.867977  103014.378380  1.657287e+10  128735.645603"
      ]
     },
     "execution_count": 38,
     "metadata": {},
     "output_type": "execute_result"
    }
   ],
   "source": [
    "data = pd.DataFrame(dictionary, index=['Linear Regression','Polynomial Regression','Decision Tree','Random Forest'])\n",
    "data"
   ]
  },
  {
   "cell_type": "code",
   "execution_count": 39,
   "metadata": {
    "colab": {
     "base_uri": "https://localhost:8080/",
     "height": 380
    },
    "executionInfo": {
     "elapsed": 10,
     "status": "ok",
     "timestamp": 1654821218129,
     "user": {
      "displayName": "Ade Irvan",
      "userId": "15757670850542183529"
     },
     "user_tz": -420
    },
    "id": "i-Wwk0pp2E_W",
    "outputId": "5d456a03-6b33-45ce-af9d-0019bef8cc2f"
   },
   "outputs": [
    {
     "data": {
      "image/png": "[encoded data removed]",
      "text/plain": [
       "<Figure size 720x432 with 1 Axes>"
      ]
     },
     "metadata": {
      "needs_background": "light"
     },
     "output_type": "display_data"
    }
   ],
   "source": [
    "# set width of bar\n",
    "barWidth = 0.2\n",
    "fig = plt.subplots(figsize =(10, 6))\n",
    "\n",
    "\n",
    "# set height of bar\n",
    "linear_score = [linear_eval['acc']]\n",
    "poly_score= [poly_eval['acc']]\n",
    "dt_score = [dt_eval['acc']]\n",
    "rf_score = [rf_eval['acc']]\n",
    "\n",
    "#Set position of bar on X axis\n",
    "br1 = np.arange(len(linear_score))\n",
    "br2 = [x + barWidth for x in br1]\n",
    "br3 = [x + barWidth for x in br2]\n",
    "br4 = [x + barWidth for x in br3]\n",
    "\n",
    "\n",
    "# Make the plot\n",
    "plt.bar(br1, linear_score, color ='red', width = barWidth ,\n",
    "\t\tedgecolor ='grey', label ='Liniear Regression')\n",
    "plt.bar(br2, poly_score, color ='yellow', width =barWidth ,\n",
    "\t\tedgecolor ='grey', label ='Polynomial Regression')\n",
    "plt.bar(br3, dt_score, color ='green', width =barWidth,\n",
    "\t\tedgecolor ='grey', label ='Decision Tree')\n",
    "plt.bar(br4, rf_score, color ='cyan', width = barWidth,\n",
    "\t\tedgecolor ='grey', label ='Random Forest')\n",
    "\n",
    "\n",
    "# Adding Xticks\n",
    "plt.xlabel('Model', fontweight ='bold', fontsize = 15)\n",
    "plt.ylabel('Metrics', fontweight ='bold', fontsize = 15)\n",
    "plt.ylim(0,1)\n",
    "plt.xticks([])\n",
    "\n",
    "plt.legend()\n",
    "plt.show()\n"
   ]
  },
  {
   "cell_type": "markdown",
   "metadata": {
    "id": "RxI5IlK69Nlt"
   },
   "source": [
    "**Kesimpulan**\n",
    "\n",
    "1. Model dengan akurasi terbaik adalah model dengan linear regression"
   ]
  },
  {
   "cell_type": "markdown",
   "metadata": {
    "id": "OnMHrMli9x4S"
   },
   "source": [
    "# Deployment"
   ]
  },
  {
   "cell_type": "code",
   "execution_count": 41,
   "metadata": {
    "colab": {
     "base_uri": "https://localhost:8080/"
    },
    "executionInfo": {
     "elapsed": 612,
     "status": "ok",
     "timestamp": 1654821435020,
     "user": {
      "displayName": "Ade Irvan",
      "userId": "15757670850542183529"
     },
     "user_tz": -420
    },
    "id": "dhiAwsqd90k3",
    "outputId": "db75cfb5-a439-4933-f7da-0c84b1718b40"
   },
   "outputs": [
    {
     "name": "stdout",
     "output_type": "stream",
     "text": [
      "harga jual rumah yang tersedia 490363.73 US$ \n"
     ]
    }
   ],
   "source": [
    "import warnings\n",
    "warnings.filterwarnings(\"ignore\")\n",
    "\n",
    "example = np.array([[25000, 6, 8, 5, 38000]])\n",
    "price = lin_reg.predict((example))\n",
    "\n",
    "print(f\"harga jual rumah yang tersedia {price[0]:.2f} US$ \")"
   ]
  },
  {
   "cell_type": "code",
   "execution_count": null,
   "metadata": {
    "colab": {
     "base_uri": "https://localhost:8080/"
    },
    "executionInfo": {
     "elapsed": 312,
     "status": "ok",
     "timestamp": 1654591100429,
     "user": {
      "displayName": "Ade Irvan",
      "userId": "15757670850542183529"
     },
     "user_tz": -420
    },
    "id": "6IXQAryLRklO",
    "outputId": "e6bfd1cf-9437-4fee-aeec-6dda85536ce9"
   },
   "outputs": [
    {
     "name": "stdout",
     "output_type": "stream",
     "text": [
      "scaled data = [[0. 0. 0. 0. 0.]]\n",
      "normal data = [[7.e+04 3.e+00 5.e+00 4.e+00 2.e+04]] \n"
     ]
    }
   ],
   "source": [
    "# scale_data = scaled.fit_transform(example)\n",
    "# normal_data = scaled.inverse_transform(scale_data)\n",
    "\n",
    "# print(f\"\"\"scaled data = {scale_data}\n",
    "# normal data = {normal_data} \"\"\")"
   ]
  },
  {
   "cell_type": "code",
   "execution_count": null,
   "metadata": {
    "id": "DfjkwnhGC73y"
   },
   "outputs": [],
   "source": [
    "# import pickle\n",
    "\n",
    "# with open('model_predict_home','wb') as file:\n",
    "#   pickle.dump(lin_reg,file)"
   ]
  },
  {
   "cell_type": "code",
   "execution_count": null,
   "metadata": {
    "id": "Ms4WUnGYFbaP"
   },
   "outputs": [],
   "source": [
    "# with open('model_predict_home','rb') as file:\n",
    "#   myModel = pickle.load(file)"
   ]
  },
  {
   "cell_type": "markdown",
   "metadata": {
    "id": "5QpGE7Ty2E_Y"
   },
   "source": [
    "# Simpan Model dengan Joblib"
   ]
  },
  {
   "cell_type": "code",
   "execution_count": 42,
   "metadata": {
    "executionInfo": {
     "elapsed": 664,
     "status": "ok",
     "timestamp": 1654821448657,
     "user": {
      "displayName": "Ade Irvan",
      "userId": "15757670850542183529"
     },
     "user_tz": -420
    },
    "id": "PBraJ_0a2E_Y"
   },
   "outputs": [],
   "source": [
    "import joblib"
   ]
  },
  {
   "cell_type": "code",
   "execution_count": 43,
   "metadata": {
    "colab": {
     "base_uri": "https://localhost:8080/"
    },
    "executionInfo": {
     "elapsed": 483,
     "status": "ok",
     "timestamp": 1654821459876,
     "user": {
      "displayName": "Ade Irvan",
      "userId": "15757670850542183529"
     },
     "user_tz": -420
    },
    "id": "asG-x8iU2E_Y",
    "outputId": "332d2a4d-6ab0-4201-d231-dea7a0526b28"
   },
   "outputs": [
    {
     "data": {
      "text/plain": [
       "['model_predict_home_price.pkl']"
      ]
     },
     "execution_count": 43,
     "metadata": {},
     "output_type": "execute_result"
    }
   ],
   "source": [
    "joblib.dump((lin_reg), \"model_predict_home_price.pkl\")"
   ]
  },
  {
   "cell_type": "code",
   "execution_count": 45,
   "metadata": {
    "executionInfo": {
     "elapsed": 545,
     "status": "ok",
     "timestamp": 1654821534063,
     "user": {
      "displayName": "Ade Irvan",
      "userId": "15757670850542183529"
     },
     "user_tz": -420
    },
    "id": "b_-SOZSaIWt_"
   },
   "outputs": [],
   "source": [
    "# panggil model\n",
    "\n",
    "model= joblib.load('model_predict_home_price.pkl')"
   ]
  },
  {
   "cell_type": "code",
   "execution_count": 50,
   "metadata": {
    "colab": {
     "base_uri": "https://localhost:8080/"
    },
    "executionInfo": {
     "elapsed": 604,
     "status": "ok",
     "timestamp": 1654821568907,
     "user": {
      "displayName": "Ade Irvan",
      "userId": "15757670850542183529"
     },
     "user_tz": -420
    },
    "id": "khagqNK4JFca",
    "outputId": "3b6d8ef1-aa71-4190-d81b-c227794cf0ef"
   },
   "outputs": [
    {
     "name": "stdout",
     "output_type": "stream",
     "text": [
      "LinearRegression()\n"
     ]
    }
   ],
   "source": [
    "print(model)"
   ]
  },
  {
   "cell_type": "code",
   "execution_count": 48,
   "metadata": {
    "colab": {
     "base_uri": "https://localhost:8080/"
    },
    "executionInfo": {
     "elapsed": 532,
     "status": "ok",
     "timestamp": 1654821557840,
     "user": {
      "displayName": "Ade Irvan",
      "userId": "15757670850542183529"
     },
     "user_tz": -420
    },
    "id": "yoS1QfxqFwqu",
    "outputId": "56dc37e3-9cbe-4386-b618-31c7e6069477"
   },
   "outputs": [
    {
     "data": {
      "text/plain": [
       "array([490363.72843989])"
      ]
     },
     "execution_count": 48,
     "metadata": {},
     "output_type": "execute_result"
    }
   ],
   "source": [
    "# testing\n",
    "\n",
    "model.predict((example))"
   ]
  }
 ],
 "metadata": {
  "colab": {
   "collapsed_sections": [],
   "name": "Pred_Home_Price.ipynb",
   "provenance": []
  },
  "kernelspec": {
   "display_name": "Python 3.8.3 ('base')",
   "language": "python",
   "name": "python3"
  },
  "language_info": {
   "codemirror_mode": {
    "name": "ipython",
    "version": 3
   },
   "file_extension": ".py",
   "mimetype": "text/x-python",
   "name": "python",
   "nbconvert_exporter": "python",
   "pygments_lexer": "ipython3",
   "version": "3.8.3"
  },
  "vscode": {
   "interpreter": {
    "hash": "b302cdd1e032ee910f5c889c3360c28564c92ad4f326fc3102e39fbe47faee66"
   }
  }
 },
 "nbformat": 4,
 "nbformat_minor": 1
}
